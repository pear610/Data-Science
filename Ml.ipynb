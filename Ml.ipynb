{
  "nbformat": 4,
  "nbformat_minor": 0,
  "metadata": {
    "colab": {
      "name": "Ml.ipynb",
      "provenance": [],
      "authorship_tag": "ABX9TyPiZC4GTis/dyCRyv1m2yEv",
      "include_colab_link": true
    },
    "kernelspec": {
      "name": "python3",
      "display_name": "Python 3"
    }
  },
  "cells": [
    {
      "cell_type": "markdown",
      "metadata": {
        "id": "view-in-github",
        "colab_type": "text"
      },
      "source": [
        "<a href=\"https://colab.research.google.com/github/pear610/Data-Science/blob/main/Ml.ipynb\" target=\"_parent\"><img src=\"https://colab.research.google.com/assets/colab-badge.svg\" alt=\"Open In Colab\"/></a>"
      ]
    },
    {
      "cell_type": "markdown",
      "metadata": {
        "id": "w6dlvSUEfVgo"
      },
      "source": [
        "#Блокнот к лекциям Эмили Драль\r\n",
        "\r\n",
        "1.   Первая лекция\r\n",
        "\r\n"
      ]
    },
    {
      "cell_type": "code",
      "metadata": {
        "colab": {
          "base_uri": "https://localhost:8080/"
        },
        "id": "u0cGBj6wgds-",
        "outputId": "03467d91-8b79-418b-a363-5afe7d1acd62"
      },
      "source": [
        "import matplotlib\r\n",
        "from matplotlib import pyplot as plt\r\n",
        "matplotlib.pyplot.style.use('ggplot')\r\n",
        "import pandas as pd\r\n",
        "from sklearn import datasets\r\n",
        "%pylab inline\r\n",
        "\r\n"
      ],
      "execution_count": 18,
      "outputs": [
        {
          "output_type": "stream",
          "text": [
            "Populating the interactive namespace from numpy and matplotlib\n"
          ],
          "name": "stdout"
        }
      ]
    },
    {
      "cell_type": "markdown",
      "metadata": {
        "id": "WWMlTWOaiRoF"
      },
      "source": [
        "**Генерация** **выборок**"
      ]
    },
    {
      "cell_type": "code",
      "metadata": {
        "id": "4q0Re7qeiaqI"
      },
      "source": [
        "circles=datasets.make_circles()"
      ],
      "execution_count": 7,
      "outputs": []
    },
    {
      "cell_type": "code",
      "metadata": {
        "colab": {
          "base_uri": "https://localhost:8080/"
        },
        "id": "drCDeimZjLHf",
        "outputId": "39e6e444-d255-4b24-9a80-9ee879112d80"
      },
      "source": [
        "circles\r\n",
        "\r\n"
      ],
      "execution_count": 8,
      "outputs": [
        {
          "output_type": "execute_result",
          "data": {
            "text/plain": [
              "(array([[-8.09016994e-01,  5.87785252e-01],\n",
              "        [-7.43821189e-01, -2.94499642e-01],\n",
              "        [ 4.25779292e-01,  9.04827052e-01],\n",
              "        [-9.68583161e-01,  2.48689887e-01],\n",
              "        [ 7.01045344e-01,  3.85402939e-01],\n",
              "        [-8.00000000e-01, -2.57299624e-16],\n",
              "        [ 7.28968627e-01,  6.84547106e-01],\n",
              "        [ 4.28661436e-01, -6.75462340e-01],\n",
              "        [-3.09016994e-01, -9.51056516e-01],\n",
              "        [ 5.83174902e-01, -5.47637685e-01],\n",
              "        [-7.93691761e-01, -1.00266587e-01],\n",
              "        [ 8.76306680e-01, -4.81753674e-01],\n",
              "        [ 1.49905052e-01, -7.85829801e-01],\n",
              "        [-5.35826795e-01,  8.44327926e-01],\n",
              "        [ 7.28968627e-01, -6.84547106e-01],\n",
              "        [ 7.74866529e-01,  1.98951910e-01],\n",
              "        [ 9.29776486e-01,  3.68124553e-01],\n",
              "        [ 2.47213595e-01,  7.60845213e-01],\n",
              "        [ 5.35826795e-01, -8.44327926e-01],\n",
              "        [ 7.93691761e-01,  1.00266587e-01],\n",
              "        [ 8.09016994e-01,  5.87785252e-01],\n",
              "        [-9.29776486e-01,  3.68124553e-01],\n",
              "        [-1.49905052e-01,  7.85829801e-01],\n",
              "        [ 9.68583161e-01, -2.48689887e-01],\n",
              "        [-4.25779292e-01, -9.04827052e-01],\n",
              "        [ 1.87381315e-01, -9.82287251e-01],\n",
              "        [-9.29776486e-01, -3.68124553e-01],\n",
              "        [-5.83174902e-01, -5.47637685e-01],\n",
              "        [-6.27905195e-02, -9.98026728e-01],\n",
              "        [ 5.83174902e-01,  5.47637685e-01],\n",
              "        [ 1.49905052e-01,  7.85829801e-01],\n",
              "        [-3.40623433e-01,  7.23861642e-01],\n",
              "        [-9.68583161e-01, -2.48689887e-01],\n",
              "        [-7.43821189e-01,  2.94499642e-01],\n",
              "        [ 5.09939192e-01,  6.16410594e-01],\n",
              "        [ 1.87381315e-01,  9.82287251e-01],\n",
              "        [-9.92114701e-01,  1.25333234e-01],\n",
              "        [-9.92114701e-01, -1.25333234e-01],\n",
              "        [-6.47213595e-01, -4.70228202e-01],\n",
              "        [ 3.09016994e-01, -9.51056516e-01],\n",
              "        [ 5.35826795e-01,  8.44327926e-01],\n",
              "        [ 9.92114701e-01, -1.25333234e-01],\n",
              "        [-7.93691761e-01,  1.00266587e-01],\n",
              "        [-6.37423990e-01,  7.70513243e-01],\n",
              "        [ 7.74866529e-01, -1.98951910e-01],\n",
              "        [-6.37423990e-01, -7.70513243e-01],\n",
              "        [ 5.09939192e-01, -6.16410594e-01],\n",
              "        [ 3.40623433e-01, -7.23861642e-01],\n",
              "        [ 6.37423990e-01, -7.70513243e-01],\n",
              "        [ 4.25779292e-01, -9.04827052e-01],\n",
              "        [ 5.02324156e-02, -7.98421383e-01],\n",
              "        [-5.35826795e-01, -8.44327926e-01],\n",
              "        [ 5.02324156e-02,  7.98421383e-01],\n",
              "        [-2.47213595e-01, -7.60845213e-01],\n",
              "        [ 8.76306680e-01,  4.81753674e-01],\n",
              "        [-4.28661436e-01,  6.75462340e-01],\n",
              "        [ 8.09016994e-01, -5.87785252e-01],\n",
              "        [ 4.28661436e-01,  6.75462340e-01],\n",
              "        [ 7.01045344e-01, -3.85402939e-01],\n",
              "        [-8.09016994e-01, -5.87785252e-01],\n",
              "        [-1.87381315e-01, -9.82287251e-01],\n",
              "        [-4.25779292e-01,  9.04827052e-01],\n",
              "        [ 6.47213595e-01,  4.70228202e-01],\n",
              "        [ 7.43821189e-01, -2.94499642e-01],\n",
              "        [-6.27905195e-02,  9.98026728e-01],\n",
              "        [-1.87381315e-01,  9.82287251e-01],\n",
              "        [ 3.09016994e-01,  9.51056516e-01],\n",
              "        [ 3.40623433e-01,  7.23861642e-01],\n",
              "        [-2.47213595e-01,  7.60845213e-01],\n",
              "        [-1.49905052e-01, -7.85829801e-01],\n",
              "        [-7.01045344e-01, -3.85402939e-01],\n",
              "        [ 9.29776486e-01, -3.68124553e-01],\n",
              "        [-5.83174902e-01,  5.47637685e-01],\n",
              "        [ 6.37423990e-01,  7.70513243e-01],\n",
              "        [ 2.47213595e-01, -7.60845213e-01],\n",
              "        [-4.28661436e-01, -6.75462340e-01],\n",
              "        [-5.09939192e-01, -6.16410594e-01],\n",
              "        [ 9.92114701e-01,  1.25333234e-01],\n",
              "        [-5.02324156e-02, -7.98421383e-01],\n",
              "        [ 7.43821189e-01,  2.94499642e-01],\n",
              "        [ 7.93691761e-01, -1.00266587e-01],\n",
              "        [-8.76306680e-01, -4.81753674e-01],\n",
              "        [-8.76306680e-01,  4.81753674e-01],\n",
              "        [-3.40623433e-01, -7.23861642e-01],\n",
              "        [-7.28968627e-01, -6.84547106e-01],\n",
              "        [-6.47213595e-01,  4.70228202e-01],\n",
              "        [-1.00000000e+00, -3.21624530e-16],\n",
              "        [-5.02324156e-02,  7.98421383e-01],\n",
              "        [-7.74866529e-01, -1.98951910e-01],\n",
              "        [ 8.00000000e-01,  0.00000000e+00],\n",
              "        [-3.09016994e-01,  9.51056516e-01],\n",
              "        [ 1.00000000e+00,  0.00000000e+00],\n",
              "        [-5.09939192e-01,  6.16410594e-01],\n",
              "        [-7.28968627e-01,  6.84547106e-01],\n",
              "        [ 6.27905195e-02, -9.98026728e-01],\n",
              "        [-7.01045344e-01,  3.85402939e-01],\n",
              "        [ 9.68583161e-01,  2.48689887e-01],\n",
              "        [ 6.27905195e-02,  9.98026728e-01],\n",
              "        [-7.74866529e-01,  1.98951910e-01],\n",
              "        [ 6.47213595e-01, -4.70228202e-01]]),\n",
              " array([0, 1, 0, 0, 1, 1, 0, 1, 0, 1, 1, 0, 1, 0, 0, 1, 0, 1, 0, 1, 0, 0,\n",
              "        1, 0, 0, 0, 0, 1, 0, 1, 1, 1, 0, 1, 1, 0, 0, 0, 1, 0, 0, 0, 1, 0,\n",
              "        1, 0, 1, 1, 0, 0, 1, 0, 1, 1, 0, 1, 0, 1, 1, 0, 0, 0, 1, 1, 0, 0,\n",
              "        0, 1, 1, 1, 1, 0, 1, 0, 1, 1, 1, 0, 1, 1, 1, 0, 0, 1, 0, 1, 0, 1,\n",
              "        1, 1, 0, 0, 1, 0, 0, 1, 0, 0, 1, 1]))"
            ]
          },
          "metadata": {
            "tags": []
          },
          "execution_count": 8
        }
      ]
    },
    {
      "cell_type": "code",
      "metadata": {
        "colab": {
          "base_uri": "https://localhost:8080/"
        },
        "id": "ZbIj_XoZkWSP",
        "outputId": "34e2851d-61b2-45a1-a37b-3cdeb4807d7f"
      },
      "source": [
        "type(circles)\r\n"
      ],
      "execution_count": 9,
      "outputs": [
        {
          "output_type": "execute_result",
          "data": {
            "text/plain": [
              "tuple"
            ]
          },
          "metadata": {
            "tags": []
          },
          "execution_count": 9
        }
      ]
    },
    {
      "cell_type": "code",
      "metadata": {
        "colab": {
          "base_uri": "https://localhost:8080/"
        },
        "id": "id4X112MlraE",
        "outputId": "873fc155-0957-4ffe-d8ff-97df08e3477f"
      },
      "source": [
        "circles[1][0:10]"
      ],
      "execution_count": 10,
      "outputs": [
        {
          "output_type": "execute_result",
          "data": {
            "text/plain": [
              "array([0, 1, 0, 0, 1, 1, 0, 1, 0, 1])"
            ]
          },
          "metadata": {
            "tags": []
          },
          "execution_count": 10
        }
      ]
    },
    {
      "cell_type": "code",
      "metadata": {
        "colab": {
          "base_uri": "https://localhost:8080/"
        },
        "id": "DuQdqYh9nEv6",
        "outputId": "362811ec-2b74-40da-ddba-cb65bdef2cd2"
      },
      "source": [
        "print(f'target: {circles[1][:10]}')"
      ],
      "execution_count": 14,
      "outputs": [
        {
          "output_type": "stream",
          "text": [
            "target: [0 1 0 0 1 1 0 1 0 1]\n"
          ],
          "name": "stdout"
        }
      ]
    },
    {
      "cell_type": "code",
      "metadata": {
        "colab": {
          "base_uri": "https://localhost:8080/"
        },
        "id": "Cso7bTvYroyn",
        "outputId": "e82c3506-4ab6-43aa-ae29-dc1670bb0c10"
      },
      "source": [
        "print(\"features: {}\".format(circles[0][:10])), list(map(lambda x[1]))"
      ],
      "execution_count": 15,
      "outputs": [
        {
          "output_type": "stream",
          "text": [
            "features: [[-8.09016994e-01  5.87785252e-01]\n",
            " [-7.43821189e-01 -2.94499642e-01]\n",
            " [ 4.25779292e-01  9.04827052e-01]\n",
            " [-9.68583161e-01  2.48689887e-01]\n",
            " [ 7.01045344e-01  3.85402939e-01]\n",
            " [-8.00000000e-01 -2.57299624e-16]\n",
            " [ 7.28968627e-01  6.84547106e-01]\n",
            " [ 4.28661436e-01 -6.75462340e-01]\n",
            " [-3.09016994e-01 -9.51056516e-01]\n",
            " [ 5.83174902e-01 -5.47637685e-01]]\n"
          ],
          "name": "stdout"
        }
      ]
    },
    {
      "cell_type": "code",
      "metadata": {
        "colab": {
          "base_uri": "https://localhost:8080/",
          "height": 207
        },
        "id": "vPHdOf0rsaih",
        "outputId": "91ea6537-6e2f-44ef-b9b0-4b8c65a16663"
      },
      "source": [
        "plt.figure(figsize(5,5))\r\n",
        "plt.scatter(list(map(lambda x: x[0], noisy_circles[0])))"
      ],
      "execution_count": 19,
      "outputs": [
        {
          "output_type": "error",
          "ename": "NameError",
          "evalue": "ignored",
          "traceback": [
            "\u001b[0;31m---------------------------------------------------------------------------\u001b[0m",
            "\u001b[0;31mNameError\u001b[0m                                 Traceback (most recent call last)",
            "\u001b[0;32m<ipython-input-19-d7093eca33db>\u001b[0m in \u001b[0;36m<module>\u001b[0;34m()\u001b[0m\n\u001b[1;32m      1\u001b[0m \u001b[0mplt\u001b[0m\u001b[0;34m.\u001b[0m\u001b[0mfigure\u001b[0m\u001b[0;34m(\u001b[0m\u001b[0mfigsize\u001b[0m\u001b[0;34m(\u001b[0m\u001b[0;36m5\u001b[0m\u001b[0;34m,\u001b[0m\u001b[0;36m5\u001b[0m\u001b[0;34m)\u001b[0m\u001b[0;34m)\u001b[0m\u001b[0;34m\u001b[0m\u001b[0;34m\u001b[0m\u001b[0m\n\u001b[0;32m----> 2\u001b[0;31m \u001b[0mplt\u001b[0m\u001b[0;34m.\u001b[0m\u001b[0mscatter\u001b[0m\u001b[0;34m(\u001b[0m\u001b[0mlist\u001b[0m\u001b[0;34m(\u001b[0m\u001b[0mmap\u001b[0m\u001b[0;34m(\u001b[0m\u001b[0;32mlambda\u001b[0m \u001b[0mx\u001b[0m\u001b[0;34m:\u001b[0m \u001b[0mx\u001b[0m\u001b[0;34m[\u001b[0m\u001b[0;36m0\u001b[0m\u001b[0;34m]\u001b[0m\u001b[0;34m,\u001b[0m \u001b[0mnoisy_circles\u001b[0m\u001b[0;34m[\u001b[0m\u001b[0;36m0\u001b[0m\u001b[0;34m]\u001b[0m\u001b[0;34m)\u001b[0m\u001b[0;34m)\u001b[0m\u001b[0;34m)\u001b[0m\u001b[0;34m\u001b[0m\u001b[0;34m\u001b[0m\u001b[0m\n\u001b[0m",
            "\u001b[0;31mNameError\u001b[0m: name 'noisy_circles' is not defined"
          ]
        },
        {
          "output_type": "display_data",
          "data": {
            "text/plain": [
              "<Figure size 360x360 with 0 Axes>"
            ]
          },
          "metadata": {
            "tags": []
          }
        }
      ]
    }
  ]
}